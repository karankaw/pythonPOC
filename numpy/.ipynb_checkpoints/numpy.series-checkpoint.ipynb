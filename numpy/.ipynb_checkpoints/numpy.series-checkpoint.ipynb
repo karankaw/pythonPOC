{
 "cells": [
  {
   "cell_type": "code",
   "execution_count": 9,
   "metadata": {},
   "outputs": [
    {
     "name": "stdout",
     "output_type": "stream",
     "text": [
      "Help on function date_range in module pandas.core.indexes.datetimes:\n",
      "\n",
      "date_range(start=None, end=None, periods=None, freq='D', tz=None, normalize=False, name=None, closed=None, **kwargs)\n",
      "    Return a fixed frequency datetime index, with day (calendar) as the default\n",
      "    frequency\n",
      "    \n",
      "    Parameters\n",
      "    ----------\n",
      "    start : string or datetime-like, default None\n",
      "        Left bound for generating dates\n",
      "    end : string or datetime-like, default None\n",
      "        Right bound for generating dates\n",
      "    periods : integer or None, default None\n",
      "        If None, must specify start and end\n",
      "    freq : string or DateOffset, default 'D' (calendar daily)\n",
      "        Frequency strings can have multiples, e.g. '5H'\n",
      "    tz : string or None\n",
      "        Time zone name for returning localized DatetimeIndex, for example\n",
      "        Asia/Hong_Kong\n",
      "    normalize : bool, default False\n",
      "        Normalize start/end dates to midnight before generating date range\n",
      "    name : str, default None\n",
      "        Name of the resulting index\n",
      "    closed : string or None, default None\n",
      "        Make the interval closed with respect to the given frequency to\n",
      "        the 'left', 'right', or both sides (None)\n",
      "    \n",
      "    Notes\n",
      "    -----\n",
      "    2 of start, end, or periods must be specified\n",
      "    \n",
      "    To learn more about the frequency strings, please see `this link\n",
      "    <http://pandas.pydata.org/pandas-docs/stable/timeseries.html#offset-aliases>`__.\n",
      "    \n",
      "    Returns\n",
      "    -------\n",
      "    rng : DatetimeIndex\n",
      "\n"
     ]
    },
    {
     "data": {
      "text/plain": [
       "DatetimeIndex(['2018-12-01', '2018-12-02', '2018-12-03', '2018-12-04',\n",
       "               '2018-12-05', '2018-12-06', '2018-12-07', '2018-12-08',\n",
       "               '2018-12-09', '2018-12-10', '2018-12-11', '2018-12-12',\n",
       "               '2018-12-13', '2018-12-14', '2018-12-15', '2018-12-16',\n",
       "               '2018-12-17', '2018-12-18', '2018-12-19', '2018-12-20',\n",
       "               '2018-12-21', '2018-12-22', '2018-12-23', '2018-12-24',\n",
       "               '2018-12-25', '2018-12-26', '2018-12-27', '2018-12-28',\n",
       "               '2018-12-29', '2018-12-30', '2018-12-31'],\n",
       "              dtype='datetime64[ns]', freq='D')"
      ]
     },
     "execution_count": 9,
     "metadata": {},
     "output_type": "execute_result"
    }
   ],
   "source": [
    "import numpy as np\n",
    "import pandas as pd\n",
    "\n",
    "help(pd.date_range)\n",
    "\n",
    "pandas_dates = pd.date_range(start='20181201', periods=5)\n",
    "pandas_dates\n",
    "pandas_dates = pd.date_range(start='20181201', end='20181231')\n",
    "pandas_dates"
   ]
  }
 ],
 "metadata": {
  "kernelspec": {
   "display_name": "Python 3",
   "language": "python",
   "name": "python3"
  },
  "language_info": {
   "codemirror_mode": {
    "name": "ipython",
    "version": 3
   },
   "file_extension": ".py",
   "mimetype": "text/x-python",
   "name": "python",
   "nbconvert_exporter": "python",
   "pygments_lexer": "ipython3",
   "version": "3.6.2"
  }
 },
 "nbformat": 4,
 "nbformat_minor": 2
}
