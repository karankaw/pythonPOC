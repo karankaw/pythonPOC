{
 "cells": [
  {
   "cell_type": "code",
   "execution_count": null,
   "metadata": {},
   "outputs": [],
   "source": [
    "import sys\n",
    "paths = sys.path\n",
    "typeof_paths =type(paths)\n",
    "\n",
    "print(paths)\n",
    "print('type of sys.path',typeof_paths)"
   ]
  },
  {
   "cell_type": "code",
   "execution_count": 3,
   "metadata": {},
   "outputs": [
    {
     "name": "stdout",
     "output_type": "stream",
     "text": [
      "I am a custom function\n"
     ]
    }
   ],
   "source": [
    "import iamanewModule\n",
    "iamanewModule.function1()\n",
    "#make a new folder named 'iamanewModule' and place all of logic in __init__.py file \n",
    "#whatever is inside __init__.py, it will be imported as such on module import.\n",
    "#https://www.digitalocean.com/community/tutorials/how-to-write-modules-in-python-3"
   ]
  },
  {
   "cell_type": "code",
   "execution_count": null,
   "metadata": {
    "collapsed": true,
    "scrolled": true
   },
   "outputs": [],
   "source": [
    "#import os\n",
    "#cwd = os.getcwd()\n",
    "#print(cwd)\n",
    "#sys.path.append(cwd + '/sub_module')\n",
    "#print(paths)"
   ]
  },
  {
   "cell_type": "code",
   "execution_count": null,
   "metadata": {
    "collapsed": true
   },
   "outputs": [],
   "source": [
    "import iamanewModule\n",
    "iamanewModule.function1()"
   ]
  }
 ],
 "metadata": {
  "kernelspec": {
   "display_name": "Python 3",
   "language": "python",
   "name": "python3"
  },
  "language_info": {
   "codemirror_mode": {
    "name": "ipython",
    "version": 3
   },
   "file_extension": ".py",
   "mimetype": "text/x-python",
   "name": "python",
   "nbconvert_exporter": "python",
   "pygments_lexer": "ipython3",
   "version": "3.6.2"
  }
 },
 "nbformat": 4,
 "nbformat_minor": 2
}
